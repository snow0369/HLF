{
 "cells": [
  {
   "cell_type": "code",
   "execution_count": 1,
   "metadata": {},
   "outputs": [],
   "source": [
    "import numpy as np\n",
    "from QHLF import QHLF"
   ]
  },
  {
   "cell_type": "code",
   "execution_count": 2,
   "metadata": {},
   "outputs": [],
   "source": [
    "qhlf = QHLF(qubitDim=(3,3))"
   ]
  },
  {
   "cell_type": "code",
   "execution_count": 3,
   "metadata": {},
   "outputs": [],
   "source": [
    "qhlf.connect((0,1), (1,1))\n",
    "qhlf.select((0,1))\n",
    "qhlf.connect((1,1), (1,2))"
   ]
  },
  {
   "cell_type": "code",
   "execution_count": 4,
   "metadata": {},
   "outputs": [],
   "source": [
    "#qhlf.disconnect((0,1), (1,1))\n",
    "#qhlf.unselect((0,1))"
   ]
  },
  {
   "cell_type": "code",
   "execution_count": 5,
   "metadata": {},
   "outputs": [
    {
     "name": "stdout",
     "output_type": "stream",
     "text": [
      "      ┌───┐        ┌───┐┌───┐\n",
      "q0_0: ┤ H ├─────■──┤ S ├┤ H ├\n",
      "      ├───┤     │  ├───┤└───┘\n",
      "q0_1: ┤ H ├─■───■──┤ H ├─────\n",
      "      ├───┤ │ ┌───┐└───┘     \n",
      "q0_2: ┤ H ├─■─┤ H ├──────────\n",
      "      └───┘   └───┘          \n",
      "q0_0 is qubit 3\n",
      "q0_1 is qubit 4\n",
      "q0_2 is qubit 7\n"
     ]
    }
   ],
   "source": [
    "qhlf.circuitImplementation(reduced=True, printCircuit=True)"
   ]
  },
  {
   "cell_type": "code",
   "execution_count": 6,
   "metadata": {},
   "outputs": [
    {
     "name": "stdout",
     "output_type": "stream",
     "text": [
      "000 000000000\n",
      "100 000001000\n",
      "010 000010000\n",
      "110 000011000\n",
      "001 010000000\n",
      "101 010001000\n",
      "011 010010000\n",
      "111 010011000\n"
     ]
    }
   ],
   "source": [
    "State1 = qhlf.performStatevectorSim()"
   ]
  },
  {
   "cell_type": "code",
   "execution_count": 7,
   "metadata": {},
   "outputs": [
    {
     "name": "stdout",
     "output_type": "stream",
     "text": [
      "[ 0.25+0.25j  0.25-0.25j  0.25+0.25j  0.25-0.25j  0.25-0.25j  0.25+0.25j\n",
      " -0.25+0.25j -0.25-0.25j]\n"
     ]
    }
   ],
   "source": [
    "len(State1)\n",
    "args1 = np.argwhere(abs(State1)>1e-6).squeeze()\n",
    "print(State1[args1])"
   ]
  },
  {
   "cell_type": "code",
   "execution_count": 8,
   "metadata": {},
   "outputs": [
    {
     "name": "stdout",
     "output_type": "stream",
     "text": [
      "      ┌───┐┌───┐               \n",
      "q1_0: ┤ H ├┤ H ├───────────────\n",
      "      ├───┤├───┤               \n",
      "q1_1: ┤ H ├┤ H ├───────────────\n",
      "      ├───┤├───┤               \n",
      "q1_2: ┤ H ├┤ H ├───────────────\n",
      "      ├───┤└───┘     ┌───┐┌───┐\n",
      "q1_3: ┤ H ├───────■──┤ S ├┤ H ├\n",
      "      ├───┤       │  ├───┤└───┘\n",
      "q1_4: ┤ H ├──■────■──┤ H ├─────\n",
      "      ├───┤  │  ┌───┐└───┘     \n",
      "q1_5: ┤ H ├──┼──┤ H ├──────────\n",
      "      ├───┤  │  ├───┤          \n",
      "q1_6: ┤ H ├──┼──┤ H ├──────────\n",
      "      ├───┤  │  ├───┤          \n",
      "q1_7: ┤ H ├──■──┤ H ├──────────\n",
      "      ├───┤┌───┐└───┘          \n",
      "q1_8: ┤ H ├┤ H ├───────────────\n",
      "      └───┘└───┘               \n"
     ]
    }
   ],
   "source": [
    "qhlf.circuitImplementation(reduced=False, printCircuit=True)"
   ]
  },
  {
   "cell_type": "code",
   "execution_count": 9,
   "metadata": {},
   "outputs": [],
   "source": [
    "State2 = qhlf.performStatevectorSim()"
   ]
  },
  {
   "cell_type": "code",
   "execution_count": 10,
   "metadata": {},
   "outputs": [
    {
     "name": "stdout",
     "output_type": "stream",
     "text": [
      "[ 0.25+0.25j  0.25-0.25j  0.25+0.25j  0.25-0.25j  0.25-0.25j  0.25+0.25j\n",
      " -0.25+0.25j -0.25-0.25j]\n"
     ]
    }
   ],
   "source": [
    "len(State2)\n",
    "args2 = np.argwhere(abs(State2)>1e-6).squeeze()\n",
    "print(State2[args2])"
   ]
  },
  {
   "cell_type": "code",
   "execution_count": 11,
   "metadata": {},
   "outputs": [
    {
     "name": "stdout",
     "output_type": "stream",
     "text": [
      "Two simulations are identical.\n"
     ]
    }
   ],
   "source": [
    "epsilon = 1e-6\n",
    "\n",
    "globalPhase = 1\n",
    "for i in range(len(State1)):\n",
    "    if(abs(State1[i])>epsilon) :\n",
    "        globalPhase = State2[i]/State1[i]\n",
    "        break;\n",
    "maxDiff = np.max(np.abs(State1*globalPhase - State2))\n",
    "if maxDiff > epsilon:\n",
    "    print(maxDiff)\n",
    "    raise Exception(\"Not matching arrays\")\n",
    "else :\n",
    "    print(\"Two simulations are identical.\")"
   ]
  },
  {
   "cell_type": "code",
   "execution_count": null,
   "metadata": {},
   "outputs": [],
   "source": []
  }
 ],
 "metadata": {
  "kernelspec": {
   "display_name": "Python 3",
   "language": "python",
   "name": "python3"
  },
  "language_info": {
   "codemirror_mode": {
    "name": "ipython",
    "version": 3
   },
   "file_extension": ".py",
   "mimetype": "text/x-python",
   "name": "python",
   "nbconvert_exporter": "python",
   "pygments_lexer": "ipython3",
   "version": "3.7.6"
  }
 },
 "nbformat": 4,
 "nbformat_minor": 4
}
