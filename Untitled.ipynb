{
 "cells": [
  {
   "cell_type": "code",
   "execution_count": 1,
   "metadata": {},
   "outputs": [],
   "source": [
    "from graphic import visdomRequest"
   ]
  },
  {
   "cell_type": "code",
   "execution_count": 2,
   "metadata": {},
   "outputs": [
    {
     "name": "stdout",
     "output_type": "stream",
     "text": [
      "[{'x': [0, 0, 1, 1, 2, 2, 3, 3], 'y': [0, 1, 0, 1, 0, 1, 0, 1], 'marker': {'size': 10, 'symbol': 'dot', 'color': '#e07b39'}, 'type': 'scatter', 'mode': 'markers', 'name': 'qubit'}, {'x': [], 'y': [], 'marker': {'size': 17, 'symbol': 'dot', 'color': '#ff0000'}, 'type': 'scatter', 'mode': 'markers', 'name': 'S_qubit'}]\n"
     ]
    }
   ],
   "source": [
    "viz = visdomRequest()\n",
    "M = 4\n",
    "N = 2\n",
    "viz.addPointAsGrid(M,N)"
   ]
  },
  {
   "cell_type": "code",
   "execution_count": 3,
   "metadata": {},
   "outputs": [
    {
     "name": "stdout",
     "output_type": "stream",
     "text": [
      "[{'x': [0, 0, 1, 1, 2, 2, 3, 3], 'y': [0, 1, 0, 1, 0, 1, 0, 1], 'marker': {'size': 10, 'symbol': 'dot', 'color': '#e07b39'}, 'type': 'scatter', 'mode': 'markers', 'name': 'qubit'}, {'x': [0], 'y': [1], 'marker': {'size': 17, 'symbol': 'dot', 'color': '#ff0000'}, 'type': 'scatter', 'mode': 'markers', 'name': 'S_qubit'}]\n"
     ]
    },
    {
     "data": {
      "text/plain": [
       "True"
      ]
     },
     "execution_count": 3,
     "metadata": {},
     "output_type": "execute_result"
    }
   ],
   "source": [
    "viz.addSelectPoint(0,1)"
   ]
  },
  {
   "cell_type": "code",
   "execution_count": 5,
   "metadata": {},
   "outputs": [
    {
     "name": "stdout",
     "output_type": "stream",
     "text": [
      "[[0, 0], [0, 1]] is already in the list.\n",
      "[{'x': [0, 0, 1, 1, 2, 2, 3, 3], 'y': [0, 1, 0, 1, 0, 1, 0, 1], 'marker': {'size': 10, 'symbol': 'dot', 'color': '#e07b39'}, 'type': 'scatter', 'mode': 'markers', 'name': 'qubit'}, {'x': [0], 'y': [1], 'marker': {'size': 17, 'symbol': 'dot', 'color': '#ff0000'}, 'type': 'scatter', 'mode': 'markers', 'name': 'S_qubit'}, {'x': [0, 0], 'y': [0, 1], 'line': {'width': 3, 'color': '#0e699e'}, 'type': 'line', 'mode': 'lines', 'name': 'Conn'}]\n"
     ]
    }
   ],
   "source": [
    "viz.addConnections([[[0,0],[0,1]]])"
   ]
  },
  {
   "cell_type": "code",
   "execution_count": null,
   "metadata": {},
   "outputs": [],
   "source": []
  }
 ],
 "metadata": {
  "kernelspec": {
   "display_name": "Python 3",
   "language": "python",
   "name": "python3"
  },
  "language_info": {
   "codemirror_mode": {
    "name": "ipython",
    "version": 3
   },
   "file_extension": ".py",
   "mimetype": "text/x-python",
   "name": "python",
   "nbconvert_exporter": "python",
   "pygments_lexer": "ipython3",
   "version": "3.7.6"
  }
 },
 "nbformat": 4,
 "nbformat_minor": 4
}
